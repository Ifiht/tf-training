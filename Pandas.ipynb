{
 "cells": [
  {
   "cell_type": "markdown",
   "metadata": {},
   "source": [
    "# Pandas UltraQuick Tutorial"
   ]
  },
  {
   "cell_type": "markdown",
   "metadata": {},
   "source": [
    "Import required libraries:"
   ]
  },
  {
   "cell_type": "code",
   "execution_count": 1,
   "metadata": {},
   "outputs": [],
   "source": [
    "import numpy as np\n",
    "import pandas as pd"
   ]
  },
  {
   "cell_type": "markdown",
   "metadata": {},
   "source": [
    "Create a 3x4 DataFrame with columns Eleanor, Chidi, Tahani, & Jason. Populate with randint from 0-100."
   ]
  },
  {
   "cell_type": "code",
   "execution_count": 2,
   "metadata": {},
   "outputs": [
    {
     "name": "stdout",
     "output_type": "stream",
     "text": [
      "[[ 60   0  25  16]\n",
      " [ 13  38   9  95]\n",
      " [100  76  28  57]]\n"
     ]
    }
   ],
   "source": [
    "a34 = np.random.randint(low=0, high=101, size=(3,4))\n",
    "print(a34)"
   ]
  },
  {
   "cell_type": "code",
   "execution_count": 3,
   "metadata": {},
   "outputs": [
    {
     "name": "stdout",
     "output_type": "stream",
     "text": [
      "   Eleanor  Chidi  Tahani  Jason\n",
      "0       60      0      25     16\n",
      "1       13     38       9     95\n",
      "2      100     76      28     57\n",
      "\n",
      "Second row of Eleanor: 13\n",
      "\n"
     ]
    }
   ],
   "source": [
    "colnm = ['Eleanor', 'Chidi', 'Tahani', 'Jason']\n",
    "df1 = pd.DataFrame(data=a34, columns=colnm)\n",
    "print(df1)\n",
    "print(\"\\nSecond row of Eleanor: %d\\n\" % df1['Eleanor'][1])"
   ]
  },
  {
   "cell_type": "markdown",
   "metadata": {},
   "source": [
    "Create a fifth column \"Janet\", with value = row sums of Tahani + Jason"
   ]
  },
  {
   "cell_type": "code",
   "execution_count": 4,
   "metadata": {},
   "outputs": [
    {
     "name": "stdout",
     "output_type": "stream",
     "text": [
      "   Eleanor  Chidi  Tahani  Jason  Janet\n",
      "0       60      0      25     16     41\n",
      "1       13     38       9     95    104\n",
      "2      100     76      28     57     85\n"
     ]
    }
   ],
   "source": [
    "df1['Janet'] = df1['Jason'] + df1['Tahani']\n",
    "print(df1)"
   ]
  },
  {
   "cell_type": "markdown",
   "metadata": {},
   "source": [
    "Create a true copy, and a simple reference of the previous DataFrame:"
   ]
  },
  {
   "cell_type": "code",
   "execution_count": 9,
   "metadata": {},
   "outputs": [
    {
     "name": "stdout",
     "output_type": "stream",
     "text": [
      "Original:\n",
      "    Eleanor  Chidi  Tahani  Jason  Janet\n",
      "0       60      0      25     16     41\n",
      "1       13     38       9    392    104\n",
      "2      100     76      28     57     85\n",
      "Reference:\n",
      "    Eleanor  Chidi  Tahani  Jason  Janet\n",
      "0       60      0      25     16     41\n",
      "1       13     38       9    392    104\n",
      "2      100     76      28     57     85\n",
      "Copy:\n",
      "    Eleanor  Chidi  Tahani  Jason  Janet\n",
      "0       60      0      25     16     41\n",
      "1       13     38       9   1292    104\n",
      "2      100     76      28     57     85\n"
     ]
    }
   ],
   "source": [
    "df_ref = df1\n",
    "df_cpy = df1.copy()\n",
    "df_ref.at[1, 'Jason'] = df_ref['Jason'][1] + 99\n",
    "df_cpy.at[1, 'Jason'] = df_cpy['Jason'][1] + 999\n",
    "print(\"Original:\\n\", df1)\n",
    "print(\"Reference:\\n\", df_ref)\n",
    "print(\"Copy:\\n\", df_cpy)"
   ]
  },
  {
   "cell_type": "code",
   "execution_count": null,
   "metadata": {},
   "outputs": [],
   "source": []
  }
 ],
 "metadata": {
  "kernelspec": {
   "display_name": "Python 3",
   "language": "python",
   "name": "python3"
  },
  "language_info": {
   "codemirror_mode": {
    "name": "ipython",
    "version": 3
   },
   "file_extension": ".py",
   "mimetype": "text/x-python",
   "name": "python",
   "nbconvert_exporter": "python",
   "pygments_lexer": "ipython3",
   "version": "3.6.12"
  }
 },
 "nbformat": 4,
 "nbformat_minor": 4
}
