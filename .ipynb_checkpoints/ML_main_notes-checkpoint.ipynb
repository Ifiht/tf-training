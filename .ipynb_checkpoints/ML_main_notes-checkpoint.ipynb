{
 "cells": [
  {
   "cell_type": "markdown",
   "id": "separate-world",
   "metadata": {},
   "source": [
    "# === ML MAIN ==="
   ]
  },
  {
   "cell_type": "markdown",
   "id": "circular-guard",
   "metadata": {},
   "source": [
    "### 3 Key Assumptions:\n",
    "- draw examples *independatnly and identically (i.i.d.)* at random from the distribution\n",
    "- distribution is *stationary*: no changes over time\n",
    "- always pull from the *same distribution*: includes training, validation, and testing"
   ]
  },
  {
   "cell_type": "code",
   "execution_count": null,
   "id": "fluid-orange",
   "metadata": {},
   "outputs": [],
   "source": []
  }
 ],
 "metadata": {
  "kernelspec": {
   "display_name": "Python 3",
   "language": "python",
   "name": "python3"
  },
  "language_info": {
   "codemirror_mode": {
    "name": "ipython",
    "version": 3
   },
   "file_extension": ".py",
   "mimetype": "text/x-python",
   "name": "python",
   "nbconvert_exporter": "python",
   "pygments_lexer": "ipython3",
   "version": "3.6.12"
  }
 },
 "nbformat": 4,
 "nbformat_minor": 5
}
