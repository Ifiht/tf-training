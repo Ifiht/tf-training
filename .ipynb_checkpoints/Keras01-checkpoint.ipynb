{
 "cells": [
  {
   "cell_type": "markdown",
   "metadata": {},
   "source": [
    "# Keras UltraQuick Tutorial"
   ]
  },
  {
   "cell_type": "markdown",
   "metadata": {},
   "source": [
    "Import the needed libs:"
   ]
  },
  {
   "cell_type": "code",
   "execution_count": 61,
   "metadata": {},
   "outputs": [],
   "source": [
    "import pandas as pd\n",
    "import tensorflow as tf\n",
    "from matplotlib import pyplot as plt"
   ]
  },
  {
   "cell_type": "markdown",
   "metadata": {},
   "source": [
    "### Model Definition:"
   ]
  },
  {
   "cell_type": "code",
   "execution_count": 62,
   "metadata": {
    "jupyter": {
     "source_hidden": true
    }
   },
   "outputs": [
    {
     "name": "stdout",
     "output_type": "stream",
     "text": [
      "Defined create_model and train_model\n"
     ]
    }
   ],
   "source": [
    "#@title Define the functions that build and train a model\n",
    "def build_model(my_learning_rate):\n",
    "  \"\"\"Create and compile a simple linear regression model.\"\"\"\n",
    "  # Most simple tf.keras models are sequential, containing one or more layers.\n",
    "  model = tf.keras.models.Sequential()\n",
    "  # Describe the topography of the model: simple linear regression is a single node in a single layer. \n",
    "  model.add(tf.keras.layers.Dense(units=1, \n",
    "                                  input_shape=(1,)))\n",
    "  # Compile the model topography into code that TensorFlow can execute.\n",
    "  # Configure training to minimize the model's mean squared error. \n",
    "  model.compile(optimizer=tf.keras.optimizers.RMSprop(lr=my_learning_rate),\n",
    "                loss=\"mean_squared_error\",\n",
    "                metrics=[tf.keras.metrics.RootMeanSquaredError()])\n",
    "  return model           \n",
    "\n",
    "def train_model(model, feature, label, epochs, batch_size):\n",
    "  \"\"\"Train the model by feeding it data.\"\"\"\n",
    "  # Feed the feature values and the label values to the model. The model will train for the \n",
    "  # specified number of epochs, gradually learning how the feature values relate to the label values. \n",
    "  history = model.fit(x=feature,y=label,batch_size=batch_size,epochs=epochs)\n",
    "  # Gather the trained model's weight and bias.\n",
    "  trained_weight = model.get_weights()[0]\n",
    "  trained_bias = model.get_weights()[1]\n",
    "  # The list of epochs is stored separately from the rest of history.\n",
    "  epochs = history.epoch\n",
    "  # Gather the history (a snapshot) of each epoch.\n",
    "  hist = pd.DataFrame(history.history)\n",
    "  # Specifically gather the model's root mean \n",
    "  #squared error at each epoch. \n",
    "  rmse = hist[\"root_mean_squared_error\"]\n",
    "  return trained_weight, trained_bias, epochs, rmse\n",
    "\n",
    "print(\"Defined create_model and train_model\")"
   ]
  },
  {
   "cell_type": "markdown",
   "metadata": {},
   "source": [
    "### Plotting Functions:"
   ]
  },
  {
   "cell_type": "code",
   "execution_count": 63,
   "metadata": {},
   "outputs": [
    {
     "name": "stdout",
     "output_type": "stream",
     "text": [
      "Defined the plot_the_model and plot_the_loss_curve functions.\n"
     ]
    }
   ],
   "source": [
    "#@title Define the plotting functions\n",
    "def plot_the_model(trained_weight, trained_bias, feature, label):\n",
    "  \"\"\"Plot the trained model against the training feature and label.\"\"\"\n",
    "  # Label the axes.\n",
    "  plt.xlabel(\"feature\")\n",
    "  plt.ylabel(\"label\")\n",
    "  # Plot the feature values vs. label values.\n",
    "  plt.scatter(feature, label)\n",
    "  # Create a red line representing the model, start at coordinates (x0, y0) and end at coordinates (x1, y1).\n",
    "  x0 = 0\n",
    "  y0 = trained_bias\n",
    "  x1 = my_feature[-1]\n",
    "  y1 = trained_bias + (trained_weight * x1)\n",
    "  plt.plot([x0, x1], [y0, y1], c='r')\n",
    "  # Render the scatter plot and the red line.\n",
    "  plt.show()\n",
    "\n",
    "def plot_the_loss_curve(epochs, rmse):\n",
    "  \"\"\"Plot the loss curve, which shows loss vs. epoch.\"\"\"\n",
    "  plt.figure()\n",
    "  plt.xlabel(\"Epoch\")\n",
    "  plt.ylabel(\"Root Mean Squared Error\")\n",
    "  plt.plot(epochs, rmse, label=\"Loss\")\n",
    "  plt.legend()\n",
    "  plt.ylim([rmse.min()*0.97, rmse.max()])\n",
    "  plt.show()\n",
    "\n",
    "print(\"Defined the plot_the_model and plot_the_loss_curve functions.\")"
   ]
  },
  {
   "cell_type": "code",
   "execution_count": 92,
   "metadata": {},
   "outputs": [],
   "source": [
    "my_feature = ([1.0, 2.0,  3.0,  4.0,  5.0,  6.0,  7.0,  8.0,  9.0, 10.0, 11.0, 12.0])\n",
    "my_label   = ([5.0, 8.8,  9.6, 14.2, 18.8, 19.5, 21.4, 26.8, 28.9, 32.0, 33.8, 38.2])"
   ]
  },
  {
   "cell_type": "code",
   "execution_count": 93,
   "metadata": {},
   "outputs": [
    {
     "name": "stdout",
     "output_type": "stream",
     "text": [
      "Epoch 1/70\n",
      "1/1 [==============================] - 0s 1ms/step - loss: 709.6977 - root_mean_squared_error: 26.6402\n",
      "Epoch 2/70\n",
      "1/1 [==============================] - 0s 1ms/step - loss: 615.7387 - root_mean_squared_error: 24.8141\n",
      "Epoch 3/70\n",
      "1/1 [==============================] - 0s 2ms/step - loss: 553.8945 - root_mean_squared_error: 23.5350\n",
      "Epoch 4/70\n",
      "1/1 [==============================] - 0s 1ms/step - loss: 505.6960 - root_mean_squared_error: 22.4877\n",
      "Epoch 5/70\n",
      "1/1 [==============================] - 0s 1ms/step - loss: 465.4597 - root_mean_squared_error: 21.5745\n",
      "Epoch 6/70\n",
      "1/1 [==============================] - 0s 2ms/step - loss: 430.5882 - root_mean_squared_error: 20.7506\n",
      "Epoch 7/70\n",
      "1/1 [==============================] - 0s 1ms/step - loss: 399.6483 - root_mean_squared_error: 19.9912\n",
      "Epoch 8/70\n",
      "1/1 [==============================] - 0s 2ms/step - loss: 371.7554 - root_mean_squared_error: 19.2810\n",
      "Epoch 9/70\n",
      "1/1 [==============================] - 0s 1ms/step - loss: 346.3197 - root_mean_squared_error: 18.6097\n",
      "Epoch 10/70\n",
      "1/1 [==============================] - 0s 1ms/step - loss: 322.9269 - root_mean_squared_error: 17.9702\n",
      "Epoch 11/70\n",
      "1/1 [==============================] - 0s 1ms/step - loss: 301.2733 - root_mean_squared_error: 17.3572\n",
      "Epoch 12/70\n",
      "1/1 [==============================] - 0s 1ms/step - loss: 281.1288 - root_mean_squared_error: 16.7669\n",
      "Epoch 13/70\n",
      "1/1 [==============================] - 0s 2ms/step - loss: 262.3152 - root_mean_squared_error: 16.1961\n",
      "Epoch 14/70\n",
      "1/1 [==============================] - 0s 1ms/step - loss: 244.6904 - root_mean_squared_error: 15.6426\n",
      "Epoch 15/70\n",
      "1/1 [==============================] - 0s 3ms/step - loss: 228.1401 - root_mean_squared_error: 15.1043\n",
      "Epoch 16/70\n",
      "1/1 [==============================] - 0s 1ms/step - loss: 212.5701 - root_mean_squared_error: 14.5798\n",
      "Epoch 17/70\n",
      "1/1 [==============================] - 0s 1ms/step - loss: 197.9021 - root_mean_squared_error: 14.0678\n",
      "Epoch 18/70\n",
      "1/1 [==============================] - 0s 1ms/step - loss: 184.0700 - root_mean_squared_error: 13.5672\n",
      "Epoch 19/70\n",
      "1/1 [==============================] - 0s 1ms/step - loss: 171.0174 - root_mean_squared_error: 13.0774\n",
      "Epoch 20/70\n",
      "1/1 [==============================] - 0s 1ms/step - loss: 158.6957 - root_mean_squared_error: 12.5974\n",
      "Epoch 21/70\n",
      "1/1 [==============================] - 0s 1ms/step - loss: 147.0624 - root_mean_squared_error: 12.1269\n",
      "Epoch 22/70\n",
      "1/1 [==============================] - 0s 904us/step - loss: 136.0804 - root_mean_squared_error: 11.6653\n",
      "Epoch 23/70\n",
      "1/1 [==============================] - 0s 1ms/step - loss: 125.7166 - root_mean_squared_error: 11.2123\n",
      "Epoch 24/70\n",
      "1/1 [==============================] - 0s 1ms/step - loss: 115.9414 - root_mean_squared_error: 10.7676\n",
      "Epoch 25/70\n",
      "1/1 [==============================] - 0s 1ms/step - loss: 106.7281 - root_mean_squared_error: 10.3309\n",
      "Epoch 26/70\n",
      "1/1 [==============================] - 0s 1ms/step - loss: 98.0521 - root_mean_squared_error: 9.9021\n",
      "Epoch 27/70\n",
      "1/1 [==============================] - 0s 1ms/step - loss: 89.8910 - root_mean_squared_error: 9.4811\n",
      "Epoch 28/70\n",
      "1/1 [==============================] - 0s 2ms/step - loss: 82.2240 - root_mean_squared_error: 9.0677\n",
      "Epoch 29/70\n",
      "1/1 [==============================] - 0s 1ms/step - loss: 75.0315 - root_mean_squared_error: 8.6621\n",
      "Epoch 30/70\n",
      "1/1 [==============================] - 0s 2ms/step - loss: 68.2951 - root_mean_squared_error: 8.2641\n",
      "Epoch 31/70\n",
      "1/1 [==============================] - 0s 3ms/step - loss: 61.9973 - root_mean_squared_error: 7.8738\n",
      "Epoch 32/70\n",
      "1/1 [==============================] - 0s 1ms/step - loss: 56.1212 - root_mean_squared_error: 7.4914\n",
      "Epoch 33/70\n",
      "1/1 [==============================] - 0s 1ms/step - loss: 50.6507 - root_mean_squared_error: 7.1169\n",
      "Epoch 34/70\n",
      "1/1 [==============================] - 0s 1ms/step - loss: 45.5699 - root_mean_squared_error: 6.7505\n",
      "Epoch 35/70\n",
      "1/1 [==============================] - 0s 1ms/step - loss: 40.8634 - root_mean_squared_error: 6.3924\n",
      "Epoch 36/70\n",
      "1/1 [==============================] - 0s 1ms/step - loss: 36.5159 - root_mean_squared_error: 6.0428\n",
      "Epoch 37/70\n",
      "1/1 [==============================] - 0s 1ms/step - loss: 32.5125 - root_mean_squared_error: 5.7020\n",
      "Epoch 38/70\n",
      "1/1 [==============================] - 0s 2ms/step - loss: 28.8381 - root_mean_squared_error: 5.3701\n",
      "Epoch 39/70\n",
      "1/1 [==============================] - 0s 1ms/step - loss: 25.4780 - root_mean_squared_error: 5.0476\n",
      "Epoch 40/70\n",
      "1/1 [==============================] - 0s 1ms/step - loss: 22.4172 - root_mean_squared_error: 4.7347\n",
      "Epoch 41/70\n",
      "1/1 [==============================] - 0s 2ms/step - loss: 19.6408 - root_mean_squared_error: 4.4318\n",
      "Epoch 42/70\n",
      "1/1 [==============================] - 0s 1ms/step - loss: 17.1339 - root_mean_squared_error: 4.1393\n",
      "Epoch 43/70\n",
      "1/1 [==============================] - 0s 1ms/step - loss: 14.8813 - root_mean_squared_error: 3.8576\n",
      "Epoch 44/70\n",
      "1/1 [==============================] - 0s 1ms/step - loss: 12.8682 - root_mean_squared_error: 3.5872\n",
      "Epoch 45/70\n",
      "1/1 [==============================] - 0s 1ms/step - loss: 11.0792 - root_mean_squared_error: 3.3285\n",
      "Epoch 46/70\n",
      "1/1 [==============================] - 0s 1ms/step - loss: 9.4994 - root_mean_squared_error: 3.0821\n",
      "Epoch 47/70\n",
      "1/1 [==============================] - 0s 2ms/step - loss: 8.1136 - root_mean_squared_error: 2.8484\n",
      "Epoch 48/70\n",
      "1/1 [==============================] - 0s 1ms/step - loss: 6.9066 - root_mean_squared_error: 2.6280\n",
      "Epoch 49/70\n",
      "1/1 [==============================] - 0s 1ms/step - loss: 5.8637 - root_mean_squared_error: 2.4215\n",
      "Epoch 50/70\n",
      "1/1 [==============================] - 0s 1ms/step - loss: 4.9701 - root_mean_squared_error: 2.2294\n",
      "Epoch 51/70\n",
      "1/1 [==============================] - 0s 1ms/step - loss: 4.2113 - root_mean_squared_error: 2.0521\n",
      "Epoch 52/70\n",
      "1/1 [==============================] - 0s 1ms/step - loss: 3.5733 - root_mean_squared_error: 1.8903\n",
      "Epoch 53/70\n",
      "1/1 [==============================] - 0s 2ms/step - loss: 3.0424 - root_mean_squared_error: 1.7443\n",
      "Epoch 54/70\n",
      "1/1 [==============================] - 0s 1ms/step - loss: 2.6057 - root_mean_squared_error: 1.6142\n",
      "Epoch 55/70\n",
      "1/1 [==============================] - 0s 2ms/step - loss: 2.2508 - root_mean_squared_error: 1.5003\n",
      "Epoch 56/70\n",
      "1/1 [==============================] - 0s 2ms/step - loss: 1.9661 - root_mean_squared_error: 1.4022\n",
      "Epoch 57/70\n",
      "1/1 [==============================] - 0s 1ms/step - loss: 1.7408 - root_mean_squared_error: 1.3194\n",
      "Epoch 58/70\n",
      "1/1 [==============================] - 0s 1ms/step - loss: 1.5652 - root_mean_squared_error: 1.2511\n",
      "Epoch 59/70\n",
      "1/1 [==============================] - 0s 1ms/step - loss: 1.4304 - root_mean_squared_error: 1.1960\n",
      "Epoch 60/70\n",
      "1/1 [==============================] - 0s 1ms/step - loss: 1.3286 - root_mean_squared_error: 1.1527\n",
      "Epoch 61/70\n",
      "1/1 [==============================] - 0s 1ms/step - loss: 1.2530 - root_mean_squared_error: 1.1194\n",
      "Epoch 62/70\n",
      "1/1 [==============================] - 0s 976us/step - loss: 1.1978 - root_mean_squared_error: 1.0944\n",
      "Epoch 63/70\n",
      "1/1 [==============================] - 0s 1ms/step - loss: 1.1581 - root_mean_squared_error: 1.0761\n",
      "Epoch 64/70\n",
      "1/1 [==============================] - 0s 1ms/step - loss: 1.1299 - root_mean_squared_error: 1.0630\n",
      "Epoch 65/70\n",
      "1/1 [==============================] - 0s 1ms/step - loss: 1.1102 - root_mean_squared_error: 1.0536\n",
      "Epoch 66/70\n",
      "1/1 [==============================] - 0s 1ms/step - loss: 1.0963 - root_mean_squared_error: 1.0470\n",
      "Epoch 67/70\n",
      "1/1 [==============================] - 0s 1ms/step - loss: 1.0865 - root_mean_squared_error: 1.0423\n",
      "Epoch 68/70\n",
      "1/1 [==============================] - 0s 1ms/step - loss: 1.0793 - root_mean_squared_error: 1.0389\n",
      "Epoch 69/70\n",
      "1/1 [==============================] - 0s 991us/step - loss: 1.0739 - root_mean_squared_error: 1.0363\n",
      "Epoch 70/70\n",
      "1/1 [==============================] - 0s 2ms/step - loss: 1.0695 - root_mean_squared_error: 1.0342\n"
     ]
    },
    {
     "name": "stderr",
     "output_type": "stream",
     "text": [
      "/home/troy/anaconda3/envs/tf-py3.8/lib/python3.8/site-packages/numpy/core/_asarray.py:136: VisibleDeprecationWarning: Creating an ndarray from ragged nested sequences (which is a list-or-tuple of lists-or-tuples-or ndarrays with different lengths or shapes) is deprecated. If you meant to do this, you must specify 'dtype=object' when creating the ndarray\n",
      "  return array(a, dtype, copy=False, order=order, subok=True)\n"
     ]
    },
    {
     "data": {
      "image/png": "[encoded data removed]",
      "text/plain": [
       "<Figure size 432x288 with 1 Axes>"
      ]
     },
     "metadata": {
      "needs_background": "light"
     },
     "output_type": "display_data"
    },
    {
     "data": {
      "image/png": "[encoded data removed]",
      "text/plain": [
       "<Figure size 432x288 with 1 Axes>"
      ]
     },
     "metadata": {
      "needs_background": "light"
     },
     "output_type": "display_data"
    }
   ],
   "source": [
    "learning_rate=0.07\n",
    "epochs=70\n",
    "my_batch_size=12\n",
    "\n",
    "my_model = build_model(learning_rate)\n",
    "trained_weight, trained_bias, epochs, rmse = train_model(my_model, my_feature, my_label, epochs, my_batch_size)\n",
    "plot_the_model(trained_weight, trained_bias, my_feature, my_label)\n",
    "plot_the_loss_curve(epochs, rmse)"
   ]
  },
  {
   "cell_type": "markdown",
   "metadata": {},
   "source": [
    "### Rules of Thumb\n",
    "- Training loss should steadily decrease, steeply at first, and then more slowly until the slope of the curve reaches or approaches zero. \n",
    "- If the training loss does not converge, train for more epochs.\n",
    "- If the training loss decreases too slowly, increase the learning rate. Note that setting the learning rate too high may also prevent training loss from converging.\n",
    "- If the training loss varies wildly (that is, the training loss jumps around), decrease the learning rate.\n",
    "- Lowering the learning rate while increasing the number of epochs or the batch size is often a good combination.\n",
    "- Setting the batch size to a very small batch number can also cause instability. First, try large batch size values. Then, decrease the batch size until you see degradation.\n",
    "- For real-world datasets consisting of a very large number of examples, the entire dataset might not fit into memory. In such cases, you'll need to reduce the batch size to enable a batch to fit into memory.\n"
   ]
  },
  {
   "cell_type": "code",
   "execution_count": null,
   "metadata": {},
   "outputs": [],
   "source": []
  }
 ],
 "metadata": {
  "kernelspec": {
   "display_name": "Python 3",
   "language": "python",
   "name": "python3"
  },
  "language_info": {
   "codemirror_mode": {
    "name": "ipython",
    "version": 3
   },
   "file_extension": ".py",
   "mimetype": "text/x-python",
   "name": "python",
   "nbconvert_exporter": "python",
   "pygments_lexer": "ipython3",
   "version": "3.6.12"
  }
 },
 "nbformat": 4,
 "nbformat_minor": 4
}
