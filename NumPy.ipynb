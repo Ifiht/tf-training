{
 "cells": [
  {
   "cell_type": "markdown",
   "metadata": {},
   "source": [
    "# NumPy UltraQuick Tutorial"
   ]
  },
  {
   "cell_type": "markdown",
   "metadata": {},
   "source": [
    "Import the required modules:"
   ]
  },
  {
   "cell_type": "code",
   "execution_count": 1,
   "metadata": {},
   "outputs": [],
   "source": [
    "import numpy as np"
   ]
  },
  {
   "cell_type": "markdown",
   "metadata": {},
   "source": [
    "Create the following output:\n",
    "label = (3)(feature) + 4, where the first value == 22"
   ]
  },
  {
   "cell_type": "code",
   "execution_count": 2,
   "metadata": {},
   "outputs": [
    {
     "name": "stdout",
     "output_type": "stream",
     "text": [
      "[ 6  7  8  9 10 11 12 13 14 15 16 17 18 19 20]\n"
     ]
    }
   ],
   "source": [
    "feature = np.arange(6,21)\n",
    "print(feature)"
   ]
  },
  {
   "cell_type": "code",
   "execution_count": 3,
   "metadata": {},
   "outputs": [
    {
     "name": "stdout",
     "output_type": "stream",
     "text": [
      "[22 25 28 31 34 37 40 43 46 49 52 55 58 61 64]\n"
     ]
    }
   ],
   "source": [
    "label = (feature * 3) + 4\n",
    "print(label)"
   ]
  },
  {
   "cell_type": "markdown",
   "metadata": {},
   "source": [
    "Now add noise to the array, using random floating-point values from +2 to -2:"
   ]
  },
  {
   "cell_type": "code",
   "execution_count": 4,
   "metadata": {},
   "outputs": [
    {
     "name": "stdout",
     "output_type": "stream",
     "text": [
      "[-0.1879959   1.88635779  1.33769788  0.72856236  1.28290658  0.99354457\n",
      " -0.36337295  1.8072958   0.09741241  0.90032872  0.38619369  1.89678912\n",
      "  0.48487557 -1.71621817  1.65030103]\n"
     ]
    }
   ],
   "source": [
    "noise = (np.random.random([15]) * 4) -2\n",
    "print(noise)"
   ]
  },
  {
   "cell_type": "code",
   "execution_count": 5,
   "metadata": {},
   "outputs": [
    {
     "name": "stdout",
     "output_type": "stream",
     "text": [
      "[  -4.1359099    47.15894469   37.45554062   22.5854331    43.61882377\n",
      "   36.76114913  -14.53491805   77.71371959    4.48097106   44.11610723\n",
      "   20.08207211  104.32340152   28.12278298 -104.68930845  105.61926605]\n"
     ]
    }
   ],
   "source": [
    "label = noise * label\n",
    "print(label)"
   ]
  },
  {
   "cell_type": "markdown",
   "metadata": {},
   "source": [
    "create a numpy random multidimensional array:"
   ]
  },
  {
   "cell_type": "code",
   "execution_count": 6,
   "metadata": {},
   "outputs": [
    {
     "name": "stdout",
     "output_type": "stream",
     "text": [
      "[[38 42 81 83]\n",
      " [14 42 11 84]\n",
      " [81 97 35 14]\n",
      " [14 78  3 62]]\n"
     ]
    }
   ],
   "source": [
    "ar = np.random.randint(low=1, high=100, size=(4,4))\n",
    "print(ar)"
   ]
  },
  {
   "cell_type": "code",
   "execution_count": null,
   "metadata": {},
   "outputs": [],
   "source": []
  }
 ],
 "metadata": {
  "kernelspec": {
   "display_name": "Python 3",
   "language": "python",
   "name": "python3"
  },
  "language_info": {
   "codemirror_mode": {
    "name": "ipython",
    "version": 3
   },
   "file_extension": ".py",
   "mimetype": "text/x-python",
   "name": "python",
   "nbconvert_exporter": "python",
   "pygments_lexer": "ipython3",
   "version": "3.8.5"
  }
 },
 "nbformat": 4,
 "nbformat_minor": 4
}
